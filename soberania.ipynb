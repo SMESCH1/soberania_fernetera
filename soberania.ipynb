{
 "cells": [
  {
   "cell_type": "code",
   "execution_count": 1,
   "metadata": {},
   "outputs": [],
   "source": [
    "import tkinter as tk\n",
    "from tkinter import messagebox\n",
    "from PIL import Image, ImageTk\n",
    "\n",
    "# Función para verificar las respuestas\n",
    "def verificar_respuestas():\n",
    "    respuesta1 = entrada1.get()\n",
    "    respuesta2 = entrada2.get()\n",
    "    mensaje_font_style = (\"Helvetica\", 16)  # Tamaño de letra para los mensajes\n",
    "\n",
    "    # Aquí defines las respuestas correctas\n",
    "    if respuesta1 == \"5\" and respuesta2 == \"5\":\n",
    "        mensaje.config(text=\"¡Respuestas correctas! 5+5= 10. Para salvar a su 10, todos deben ir al piso de arriba, y buscar aquello que les permita echar luz sobre este asunto\", font=mensaje_font_style, width=500)\n",
    "    else:\n",
    "        mensaje.config(text=\"Respuestas incorrectas, quedan dos intentos o Elías será asesinado\", font=mensaje_font_style, width=500)\n",
    "\n",
    "# Crear la ventana principal\n",
    "ventana = tk.Tk()\n",
    "ventana.title(\"PISTA FINAL\")\n",
    "\n",
    "# Cargar la imagen de fondo\n",
    "ruta_imagen = \"/home/sebastian-mesch-henriques/Escritorio/soberania_fernetera/fondo.png\"  # Ajusta la ruta según sea necesario\n",
    "imagen_fondo = Image.open(ruta_imagen)\n",
    "imagen_fondo = imagen_fondo.resize((800, 600), Image.LANCZOS)  # Ajusta el tamaño según sea necesario\n",
    "imagen_fondo = ImageTk.PhotoImage(imagen_fondo)\n",
    "\n",
    "# Crear un canvas para mostrar la imagen de fondo\n",
    "canvas = tk.Canvas(ventana, width=800, height=600)\n",
    "canvas.pack(fill=\"both\", expand=True)\n",
    "canvas.create_image(0, 0, image=imagen_fondo, anchor=\"nw\")\n",
    "\n",
    "# Configuración de estilo\n",
    "font_style = (\"Helvetica\", 14)  # Cambia el tamaño de la letra aquí\n",
    "\n",
    "# Etiqueta y entrada para el acertijo 1\n",
    "etiqueta1 = tk.Label(ventana, text=\"¿Cuánto cuesta la pelota?\", fg=\"white\", bg=\"black\", font=font_style)\n",
    "etiqueta1_window = canvas.create_window(400, 50, window=etiqueta1)\n",
    "entrada1 = tk.Entry(ventana, font=font_style)\n",
    "entrada1_window = canvas.create_window(400, 100, window=entrada1)\n",
    "\n",
    "# Etiqueta y entrada para el acertijo 2\n",
    "etiqueta2 = tk.Label(ventana, text=\"¿Cuánto tiempo tardarían 100 máquinas en hacer 100 chupetines?\", fg=\"white\", bg=\"black\", font=font_style)\n",
    "etiqueta2_window = canvas.create_window(400, 150, window=etiqueta2)\n",
    "entrada2 = tk.Entry(ventana, font=font_style)\n",
    "entrada2_window = canvas.create_window(400, 200, window=entrada2)\n",
    "\n",
    "# Botón para verificar las respuestas\n",
    "boton = tk.Button(ventana, text=\"Verificar\", command=verificar_respuestas, font=font_style)\n",
    "boton_window = canvas.create_window(400, 250, window=boton)\n",
    "\n",
    "# Etiqueta para mostrar el mensaje\n",
    "mensaje = tk.Message(ventana, text=\"\", fg=\"white\", bg=\"black\", font=font_style, width=500)\n",
    "mensaje_window = canvas.create_window(400, 350, window=mensaje)\n",
    "\n",
    "# Ejecutar la aplicación\n",
    "ventana.mainloop()\n"
   ]
  }
 ],
 "metadata": {
  "kernelspec": {
   "display_name": "venv",
   "language": "python",
   "name": "python3"
  },
  "language_info": {
   "codemirror_mode": {
    "name": "ipython",
    "version": 3
   },
   "file_extension": ".py",
   "mimetype": "text/x-python",
   "name": "python",
   "nbconvert_exporter": "python",
   "pygments_lexer": "ipython3",
   "version": "3.11.6"
  }
 },
 "nbformat": 4,
 "nbformat_minor": 2
}
